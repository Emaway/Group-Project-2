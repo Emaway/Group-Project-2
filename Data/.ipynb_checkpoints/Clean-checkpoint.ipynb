{
 "cells": [
  {
   "cell_type": "code",
   "execution_count": 4,
   "metadata": {},
   "outputs": [],
   "source": [
    "import pandas as pd\n",
    "import numpy as np"
   ]
  },
  {
   "cell_type": "markdown",
   "metadata": {},
   "source": [
    "# Life expectancy at birth, male (years)"
   ]
  },
  {
   "cell_type": "code",
   "execution_count": 8,
   "metadata": {},
   "outputs": [
    {
     "data": {
      "text/html": [
       "<div>\n",
       "<style scoped>\n",
       "    .dataframe tbody tr th:only-of-type {\n",
       "        vertical-align: middle;\n",
       "    }\n",
       "\n",
       "    .dataframe tbody tr th {\n",
       "        vertical-align: top;\n",
       "    }\n",
       "\n",
       "    .dataframe thead th {\n",
       "        text-align: right;\n",
       "    }\n",
       "</style>\n",
       "<table border=\"1\" class=\"dataframe\">\n",
       "  <thead>\n",
       "    <tr style=\"text-align: right;\">\n",
       "      <th></th>\n",
       "      <th>Country Name</th>\n",
       "      <th>Country Code</th>\n",
       "      <th>Indicator Name</th>\n",
       "      <th>Indicator Code</th>\n",
       "      <th>1960</th>\n",
       "      <th>1961</th>\n",
       "      <th>1962</th>\n",
       "      <th>1963</th>\n",
       "      <th>1964</th>\n",
       "      <th>1965</th>\n",
       "      <th>...</th>\n",
       "      <th>2009</th>\n",
       "      <th>2010</th>\n",
       "      <th>2011</th>\n",
       "      <th>2012</th>\n",
       "      <th>2013</th>\n",
       "      <th>2014</th>\n",
       "      <th>2015</th>\n",
       "      <th>2016</th>\n",
       "      <th>2017</th>\n",
       "      <th>2018</th>\n",
       "    </tr>\n",
       "  </thead>\n",
       "  <tbody>\n",
       "    <tr>\n",
       "      <th>0</th>\n",
       "      <td>Aruba</td>\n",
       "      <td>ABW</td>\n",
       "      <td>Life expectancy at birth, male (years)</td>\n",
       "      <td>SP.DYN.LE00.MA.IN</td>\n",
       "      <td>64.084</td>\n",
       "      <td>64.429</td>\n",
       "      <td>64.747</td>\n",
       "      <td>65.053</td>\n",
       "      <td>65.356</td>\n",
       "      <td>65.660</td>\n",
       "      <td>...</td>\n",
       "      <td>72.377</td>\n",
       "      <td>72.516</td>\n",
       "      <td>72.654</td>\n",
       "      <td>72.791</td>\n",
       "      <td>72.929</td>\n",
       "      <td>73.068</td>\n",
       "      <td>73.208</td>\n",
       "      <td>73.348</td>\n",
       "      <td>73.488</td>\n",
       "      <td>NaN</td>\n",
       "    </tr>\n",
       "    <tr>\n",
       "      <th>1</th>\n",
       "      <td>Afghanistan</td>\n",
       "      <td>AFG</td>\n",
       "      <td>Life expectancy at birth, male (years)</td>\n",
       "      <td>SP.DYN.LE00.MA.IN</td>\n",
       "      <td>31.580</td>\n",
       "      <td>32.026</td>\n",
       "      <td>32.466</td>\n",
       "      <td>32.903</td>\n",
       "      <td>33.338</td>\n",
       "      <td>33.771</td>\n",
       "      <td>...</td>\n",
       "      <td>59.589</td>\n",
       "      <td>60.054</td>\n",
       "      <td>60.484</td>\n",
       "      <td>60.892</td>\n",
       "      <td>61.286</td>\n",
       "      <td>61.670</td>\n",
       "      <td>62.046</td>\n",
       "      <td>62.412</td>\n",
       "      <td>62.764</td>\n",
       "      <td>NaN</td>\n",
       "    </tr>\n",
       "    <tr>\n",
       "      <th>2</th>\n",
       "      <td>Angola</td>\n",
       "      <td>AGO</td>\n",
       "      <td>Life expectancy at birth, male (years)</td>\n",
       "      <td>SP.DYN.LE00.MA.IN</td>\n",
       "      <td>31.787</td>\n",
       "      <td>32.098</td>\n",
       "      <td>32.428</td>\n",
       "      <td>32.774</td>\n",
       "      <td>33.136</td>\n",
       "      <td>33.511</td>\n",
       "      <td>...</td>\n",
       "      <td>54.581</td>\n",
       "      <td>55.506</td>\n",
       "      <td>56.321</td>\n",
       "      <td>57.016</td>\n",
       "      <td>57.592</td>\n",
       "      <td>58.056</td>\n",
       "      <td>58.423</td>\n",
       "      <td>58.717</td>\n",
       "      <td>58.972</td>\n",
       "      <td>NaN</td>\n",
       "    </tr>\n",
       "    <tr>\n",
       "      <th>3</th>\n",
       "      <td>Albania</td>\n",
       "      <td>ALB</td>\n",
       "      <td>Life expectancy at birth, male (years)</td>\n",
       "      <td>SP.DYN.LE00.MA.IN</td>\n",
       "      <td>61.309</td>\n",
       "      <td>62.272</td>\n",
       "      <td>63.117</td>\n",
       "      <td>63.811</td>\n",
       "      <td>64.346</td>\n",
       "      <td>64.723</td>\n",
       "      <td>...</td>\n",
       "      <td>73.950</td>\n",
       "      <td>74.404</td>\n",
       "      <td>74.867</td>\n",
       "      <td>75.299</td>\n",
       "      <td>75.671</td>\n",
       "      <td>75.974</td>\n",
       "      <td>76.209</td>\n",
       "      <td>76.389</td>\n",
       "      <td>76.543</td>\n",
       "      <td>NaN</td>\n",
       "    </tr>\n",
       "    <tr>\n",
       "      <th>4</th>\n",
       "      <td>Andorra</td>\n",
       "      <td>AND</td>\n",
       "      <td>Life expectancy at birth, male (years)</td>\n",
       "      <td>SP.DYN.LE00.MA.IN</td>\n",
       "      <td>NaN</td>\n",
       "      <td>NaN</td>\n",
       "      <td>NaN</td>\n",
       "      <td>NaN</td>\n",
       "      <td>NaN</td>\n",
       "      <td>NaN</td>\n",
       "      <td>...</td>\n",
       "      <td>NaN</td>\n",
       "      <td>NaN</td>\n",
       "      <td>NaN</td>\n",
       "      <td>NaN</td>\n",
       "      <td>NaN</td>\n",
       "      <td>NaN</td>\n",
       "      <td>NaN</td>\n",
       "      <td>NaN</td>\n",
       "      <td>NaN</td>\n",
       "      <td>NaN</td>\n",
       "    </tr>\n",
       "  </tbody>\n",
       "</table>\n",
       "<p>5 rows × 63 columns</p>\n",
       "</div>"
      ],
      "text/plain": [
       "  Country Name Country Code                          Indicator Name  \\\n",
       "0        Aruba          ABW  Life expectancy at birth, male (years)   \n",
       "1  Afghanistan          AFG  Life expectancy at birth, male (years)   \n",
       "2       Angola          AGO  Life expectancy at birth, male (years)   \n",
       "3      Albania          ALB  Life expectancy at birth, male (years)   \n",
       "4      Andorra          AND  Life expectancy at birth, male (years)   \n",
       "\n",
       "      Indicator Code    1960    1961    1962    1963    1964    1965  ...   \\\n",
       "0  SP.DYN.LE00.MA.IN  64.084  64.429  64.747  65.053  65.356  65.660  ...    \n",
       "1  SP.DYN.LE00.MA.IN  31.580  32.026  32.466  32.903  33.338  33.771  ...    \n",
       "2  SP.DYN.LE00.MA.IN  31.787  32.098  32.428  32.774  33.136  33.511  ...    \n",
       "3  SP.DYN.LE00.MA.IN  61.309  62.272  63.117  63.811  64.346  64.723  ...    \n",
       "4  SP.DYN.LE00.MA.IN     NaN     NaN     NaN     NaN     NaN     NaN  ...    \n",
       "\n",
       "     2009    2010    2011    2012    2013    2014    2015    2016    2017  \\\n",
       "0  72.377  72.516  72.654  72.791  72.929  73.068  73.208  73.348  73.488   \n",
       "1  59.589  60.054  60.484  60.892  61.286  61.670  62.046  62.412  62.764   \n",
       "2  54.581  55.506  56.321  57.016  57.592  58.056  58.423  58.717  58.972   \n",
       "3  73.950  74.404  74.867  75.299  75.671  75.974  76.209  76.389  76.543   \n",
       "4     NaN     NaN     NaN     NaN     NaN     NaN     NaN     NaN     NaN   \n",
       "\n",
       "   2018  \n",
       "0   NaN  \n",
       "1   NaN  \n",
       "2   NaN  \n",
       "3   NaN  \n",
       "4   NaN  \n",
       "\n",
       "[5 rows x 63 columns]"
      ]
     },
     "execution_count": 8,
     "metadata": {},
     "output_type": "execute_result"
    }
   ],
   "source": [
    "# The path to our CSV file\n",
    "file = \"Life expectancy at birth, male (years).csv\"\n",
    "\n",
    "# Read our data into pandas\n",
    "expectancyM_df = pd.read_csv(file, encoding = 'unicode_escape')\n",
    "expectancyM_df.head()"
   ]
  },
  {
   "cell_type": "code",
   "execution_count": null,
   "metadata": {},
   "outputs": [],
   "source": [
    "# Identify incomplete rows\n",
    "expectancyM_df.count()"
   ]
  },
  {
   "cell_type": "code",
   "execution_count": null,
   "metadata": {},
   "outputs": [],
   "source": [
    "# Replace NaN with '0'\n",
    "IMR_df.replace(np.nan, 0, inplace=True)"
   ]
  },
  {
   "cell_type": "code",
   "execution_count": null,
   "metadata": {},
   "outputs": [],
   "source": [
    "# Import to csv\n",
    "#IMR_df.to_csv(r'InfantMortalityRate.csv')"
   ]
  },
  {
   "cell_type": "markdown",
   "metadata": {},
   "source": [
    "# Life expectancy at birth.csv"
   ]
  },
  {
   "cell_type": "code",
   "execution_count": null,
   "metadata": {},
   "outputs": [],
   "source": [
    "# The path to our CSV file\n",
    "file = \"Life expectancy at birth, male (years).csv\"\n",
    "\n",
    "# Read our data into pandas\n",
    "expectancyM_df = pd.read_csv(file, encoding = 'unicode_escape')\n",
    "expectancyM_df.head()"
   ]
  },
  {
   "cell_type": "code",
   "execution_count": null,
   "metadata": {},
   "outputs": [],
   "source": [
    "# Identify incomplete rows\n",
    "expectancyM_df.count()"
   ]
  },
  {
   "cell_type": "code",
   "execution_count": null,
   "metadata": {},
   "outputs": [],
   "source": [
    "# Replace NaN with '0'\n",
    "IMR_df.replace(np.nan, 0, inplace=True)"
   ]
  },
  {
   "cell_type": "code",
   "execution_count": null,
   "metadata": {},
   "outputs": [],
   "source": [
    "# Import to csv\n",
    "#IMR_df.to_csv(r'InfantMortalityRate.csv')"
   ]
  },
  {
   "cell_type": "markdown",
   "metadata": {},
   "source": [
    "# Literacy rate, adult female (% of females ages 15 and above).csv"
   ]
  },
  {
   "cell_type": "code",
   "execution_count": null,
   "metadata": {},
   "outputs": [],
   "source": [
    "# The path to our CSV file\n",
    "file = \"Life expectancy at birth, male (years).csv\"\n",
    "\n",
    "# Read our data into pandas\n",
    "expectancyM_df = pd.read_csv(file, encoding = 'unicode_escape')\n",
    "expectancyM_df.head()"
   ]
  },
  {
   "cell_type": "code",
   "execution_count": null,
   "metadata": {},
   "outputs": [],
   "source": [
    "# Identify incomplete rows\n",
    "expectancyM_df.count()"
   ]
  },
  {
   "cell_type": "code",
   "execution_count": null,
   "metadata": {},
   "outputs": [],
   "source": [
    "# Replace NaN with '0'\n",
    "IMR_df.replace(np.nan, 0, inplace=True)"
   ]
  },
  {
   "cell_type": "code",
   "execution_count": null,
   "metadata": {},
   "outputs": [],
   "source": [
    "# Import to csv\n",
    "#IMR_df.to_csv(r'InfantMortalityRate.csv')"
   ]
  },
  {
   "cell_type": "markdown",
   "metadata": {},
   "source": [
    "# Literacy rate, youth female (% of females ages 15-24).csv"
   ]
  },
  {
   "cell_type": "code",
   "execution_count": null,
   "metadata": {},
   "outputs": [],
   "source": [
    "# The path to our CSV file\n",
    "file = \"Life expectancy at birth, male (years).csv\"\n",
    "\n",
    "# Read our data into pandas\n",
    "expectancyM_df = pd.read_csv(file, encoding = 'unicode_escape')\n",
    "expectancyM_df.head()"
   ]
  },
  {
   "cell_type": "code",
   "execution_count": null,
   "metadata": {},
   "outputs": [],
   "source": [
    "# Identify incomplete rows\n",
    "expectancyM_df.count()"
   ]
  },
  {
   "cell_type": "code",
   "execution_count": null,
   "metadata": {},
   "outputs": [],
   "source": [
    "# Replace NaN with '0'\n",
    "IMR_df.replace(np.nan, 0, inplace=True)"
   ]
  },
  {
   "cell_type": "code",
   "execution_count": null,
   "metadata": {},
   "outputs": [],
   "source": [
    "# Import to csv\n",
    "#IMR_df.to_csv(r'InfantMortalityRate.csv')"
   ]
  },
  {
   "cell_type": "markdown",
   "metadata": {},
   "source": [
    "# Net migration.csv"
   ]
  },
  {
   "cell_type": "code",
   "execution_count": null,
   "metadata": {},
   "outputs": [],
   "source": [
    "# The path to our CSV file\n",
    "file = \"Life expectancy at birth, male (years).csv\"\n",
    "\n",
    "# Read our data into pandas\n",
    "expectancyM_df = pd.read_csv(file, encoding = 'unicode_escape')\n",
    "expectancyM_df.head()"
   ]
  },
  {
   "cell_type": "code",
   "execution_count": null,
   "metadata": {},
   "outputs": [],
   "source": [
    "# Identify incomplete rows\n",
    "expectancyM_df.count()"
   ]
  },
  {
   "cell_type": "code",
   "execution_count": null,
   "metadata": {},
   "outputs": [],
   "source": [
    "# Replace NaN with '0'\n",
    "IMR_df.replace(np.nan, 0, inplace=True)"
   ]
  },
  {
   "cell_type": "code",
   "execution_count": null,
   "metadata": {},
   "outputs": [],
   "source": [
    "# Import to csv\n",
    "#IMR_df.to_csv(r'InfantMortalityRate.csv')"
   ]
  },
  {
   "cell_type": "markdown",
   "metadata": {},
   "source": [
    "# PersistenceToLastGradeOfPrimary_Female.csv"
   ]
  },
  {
   "cell_type": "code",
   "execution_count": null,
   "metadata": {},
   "outputs": [],
   "source": [
    "# The path to our CSV file\n",
    "file = \"Life expectancy at birth, male (years).csv\"\n",
    "\n",
    "# Read our data into pandas\n",
    "expectancyM_df = pd.read_csv(file, encoding = 'unicode_escape')\n",
    "expectancyM_df.head()"
   ]
  },
  {
   "cell_type": "code",
   "execution_count": null,
   "metadata": {},
   "outputs": [],
   "source": [
    "# Identify incomplete rows\n",
    "expectancyM_df.count()"
   ]
  },
  {
   "cell_type": "code",
   "execution_count": null,
   "metadata": {},
   "outputs": [],
   "source": [
    "# Replace NaN with '0'\n",
    "IMR_df.replace(np.nan, 0, inplace=True)"
   ]
  },
  {
   "cell_type": "code",
   "execution_count": null,
   "metadata": {},
   "outputs": [],
   "source": [
    "# Import to csv\n",
    "#IMR_df.to_csv(r'InfantMortalityRate.csv')"
   ]
  },
  {
   "cell_type": "markdown",
   "metadata": {},
   "source": [
    "# PersistenceToLastGradeOfPrimary_Male.csv"
   ]
  },
  {
   "cell_type": "code",
   "execution_count": null,
   "metadata": {},
   "outputs": [],
   "source": [
    "# The path to our CSV file\n",
    "file = \"Life expectancy at birth, male (years).csv\"\n",
    "\n",
    "# Read our data into pandas\n",
    "expectancyM_df = pd.read_csv(file, encoding = 'unicode_escape')\n",
    "expectancyM_df.head()"
   ]
  },
  {
   "cell_type": "code",
   "execution_count": null,
   "metadata": {},
   "outputs": [],
   "source": [
    "# Identify incomplete rows\n",
    "expectancyM_df.count()"
   ]
  },
  {
   "cell_type": "code",
   "execution_count": null,
   "metadata": {},
   "outputs": [],
   "source": [
    "# Replace NaN with '0'\n",
    "IMR_df.replace(np.nan, 0, inplace=True)"
   ]
  },
  {
   "cell_type": "code",
   "execution_count": null,
   "metadata": {},
   "outputs": [],
   "source": [
    "# Import to csv\n",
    "#IMR_df.to_csv(r'InfantMortalityRate.csv')"
   ]
  }
 ],
 "metadata": {
  "kernelspec": {
   "display_name": "Python 3",
   "language": "python",
   "name": "python3"
  },
  "language_info": {
   "codemirror_mode": {
    "name": "ipython",
    "version": 3
   },
   "file_extension": ".py",
   "mimetype": "text/x-python",
   "name": "python",
   "nbconvert_exporter": "python",
   "pygments_lexer": "ipython3",
   "version": "3.7.1"
  }
 },
 "nbformat": 4,
 "nbformat_minor": 2
}
