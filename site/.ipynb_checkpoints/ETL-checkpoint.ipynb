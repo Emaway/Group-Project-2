{
 "cells": [
  {
   "cell_type": "markdown",
   "metadata": {},
   "source": [
    "# Database Load"
   ]
  },
  {
   "cell_type": "code",
   "execution_count": 4,
   "metadata": {},
   "outputs": [],
   "source": [
    "from flask import Flask, jsonify\n",
    "from flask_sqlalchemy import SQLAlchemy\n",
    "from sqlalchemy.dialects.postgresql import JSON\n",
    "from flask import render_template\n",
    "import csv\n",
    "import json\n",
    "\n",
    "app = Flask(__name__)\n",
    "\n",
    "app.config['DEBUG'] = True\n",
    "app.config['SQLALCHEMY_DATABASE_URI'] = 'postgresql://localhost/country_test'\n",
    "app.config['SQLALCHEMY_TRACK_MODIFICATIONS'] = False\n",
    "\n",
    "db = SQLAlchemy(app)"
   ]
  },
  {
   "cell_type": "code",
   "execution_count": 5,
   "metadata": {},
   "outputs": [],
   "source": [
    "class BaseModel(db.Model):\n",
    "    \"\"\"Base data model for all objects\"\"\"\n",
    "    __abstract__ = True\n",
    "\n",
    "    def __init__(self, *args):\n",
    "        super().__init__(*args)\n",
    "\n",
    "    def __repr__(self):\n",
    "        \"\"\"Define a base way to print models\"\"\"\n",
    "        return '%s(%s)' % (self.__class__.__name__, {\n",
    "            column: value\n",
    "            for column, value in self._to_dict().items()\n",
    "        })\n",
    "\n",
    "\n",
    "class Countries(BaseModel, db.Model):\n",
    "    \"\"\"Model for the countries table\"\"\"\n",
    "    __tablename__ = 'countries'\n",
    "\n",
    "    id = db.Column(db.Integer, primary_key = True)\n",
    "    iso_a3 = db.Column(db.String())\n",
    "    names = db.Column(JSON)\n",
    "    data = db.Column(JSON)"
   ]
  },
  {
   "cell_type": "code",
   "execution_count": null,
   "metadata": {},
   "outputs": [],
   "source": []
  }
 ],
 "metadata": {
  "kernelspec": {
   "display_name": "Python 3",
   "language": "python",
   "name": "python3"
  },
  "language_info": {
   "codemirror_mode": {
    "name": "ipython",
    "version": 3
   },
   "file_extension": ".py",
   "mimetype": "text/x-python",
   "name": "python",
   "nbconvert_exporter": "python",
   "pygments_lexer": "ipython3",
   "version": "3.7.1"
  }
 },
 "nbformat": 4,
 "nbformat_minor": 2
}
