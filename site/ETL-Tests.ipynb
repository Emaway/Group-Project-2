{
 "cells": [
  {
   "cell_type": "markdown",
   "metadata": {},
   "source": [
    "# Database Load"
   ]
  },
  {
   "cell_type": "code",
   "execution_count": 1,
   "metadata": {},
   "outputs": [],
   "source": [
    "from flask import Flask, jsonify\n",
    "from flask_sqlalchemy import SQLAlchemy\n",
    "from sqlalchemy.dialects.postgresql import JSON\n",
    "from flask import render_template\n",
    "import csv\n",
    "import json\n",
    "import glob\n",
    "import psycopg2\n",
    "import os\n",
    "\n",
    "app = Flask(__name__)\n",
    "\n",
    "app.config['DEBUG'] = True\n",
    "DB_URL = os.environ['DATABASE_URL']\n",
    "\n",
    "app.config['SQLALCHEMY_DATABASE_URI'] = DB_URL\n",
    "app.config['SQLALCHEMY_TRACK_MODIFICATIONS'] = False\n",
    "\n",
    "db = SQLAlchemy(app)"
   ]
  },
  {
   "cell_type": "code",
   "execution_count": null,
   "metadata": {},
   "outputs": [],
   "source": []
  },
  {
   "cell_type": "code",
   "execution_count": 2,
   "metadata": {},
   "outputs": [],
   "source": [
    "class Countries (db.Model):\n",
    "    \"\"\"Model for the countries table\"\"\"\n",
    "    __tablename__ = 'countries4'\n",
    "\n",
    "    id = db.Column(db.Integer, primary_key = True)\n",
    "    iso_a3 = db.Column(db.String())\n",
    "    country_name = db.Column(db.String())\n",
    "    indicator_code = db.Column(db.String())\n",
    "    year = db.Column(db.Integer)\n",
    "    value = db.Column(db.String())\n"
   ]
  },
  {
   "cell_type": "code",
   "execution_count": 3,
   "metadata": {},
   "outputs": [],
   "source": [
    "db.drop_all()\n",
    "db.create_all()"
   ]
  },
  {
   "cell_type": "code",
   "execution_count": 4,
   "metadata": {},
   "outputs": [
    {
     "data": {
      "text/plain": [
       "['../Output_data\\\\AccessToElectricity.csv',\n",
       " '../Output_data\\\\Births attended by skilled health staff.csv',\n",
       " '../Output_data\\\\Children out of school, primary, female.csv',\n",
       " '../Output_data\\\\corruption_final_version_combined.csv',\n",
       " '../Output_data\\\\country_codes.csv',\n",
       " '../Output_data\\\\Crude birth rate.csv',\n",
       " '../Output_data\\\\Crude Death rate.csv',\n",
       " '../Output_data\\\\Current health expenditure (% of GDP).csv',\n",
       " '../Output_data\\\\Current health expenditure per capita, PPP (current international $).csv',\n",
       " '../Output_data\\\\econ_freedom.csv',\n",
       " '../Output_data\\\\Fertility rate, total (births per woman).csv',\n",
       " '../Output_data\\\\Fixed broadband subscriptions (per 100 people).csv',\n",
       " '../Output_data\\\\healthcare_coverage.csv',\n",
       " '../Output_data\\\\Hospital beds (per 1,000 people).csv',\n",
       " '../Output_data\\\\human-rights-scores.csv',\n",
       " '../Output_data\\\\InfantMortalityRate.csv',\n",
       " '../Output_data\\\\LifeExpectancy.csv',\n",
       " '../Output_data\\\\LifeExpectancyMale.csv',\n",
       " '../Output_data\\\\LiteracyAdultFemale.csv',\n",
       " '../Output_data\\\\LiteracyYouthFemale.csv',\n",
       " '../Output_data\\\\md_per_10000.csv',\n",
       " '../Output_data\\\\NetMigration.csv',\n",
       " '../Output_data\\\\Out_of_pocket_expenditure_per_capita .csv',\n",
       " '../Output_data\\\\ToLastGradeFemale.csv',\n",
       " '../Output_data\\\\ToLastGradeMale.csv']"
      ]
     },
     "execution_count": 4,
     "metadata": {},
     "output_type": "execute_result"
    }
   ],
   "source": [
    "# Get all .csv files in ../Output_Data directory\n",
    "csvlist = [f for f in glob.glob(\"../Output_data/*.csv\")]\n",
    "csvlist"
   ]
  },
  {
   "cell_type": "code",
   "execution_count": 5,
   "metadata": {},
   "outputs": [
    {
     "data": {
      "text/plain": [
       "25"
      ]
     },
     "execution_count": 5,
     "metadata": {},
     "output_type": "execute_result"
    }
   ],
   "source": [
    "alldata = []\n",
    "for csvfile in csvlist:\n",
    "    with open(csvfile, encoding='utf-8-sig') as f:\n",
    "        reader = csv.reader(f)\n",
    "        newdata = [row for row in reader]\n",
    "        alldata.append(newdata)\n",
    "len(alldata)"
   ]
  },
  {
   "cell_type": "code",
   "execution_count": 24,
   "metadata": {},
   "outputs": [
    {
     "name": "stdout",
     "output_type": "stream",
     "text": [
      "Indicator_Code\n",
      "MEDS.PERPOP\n",
      "MEDS.PERPOP\n",
      "MEDS.PERPOP\n",
      "MEDS.PERPOP\n",
      "MEDS.PERPOP\n",
      "MEDS.PERPOP\n",
      "MEDS.PERPOP\n",
      "MEDS.PERPOP\n",
      "MEDS.PERPOP\n",
      "MEDS.PERPOP\n",
      "MEDS.PERPOP\n",
      "MEDS.PERPOP\n",
      "MEDS.PERPOP\n",
      "MEDS.PERPOP\n",
      "MEDS.PERPOP\n",
      "MEDS.PERPOP\n",
      "MEDS.PERPOP\n",
      "MEDS.PERPOP\n",
      "MEDS.PERPOP\n",
      "MEDS.PERPOP\n",
      "MEDS.PERPOP\n",
      "MEDS.PERPOP\n",
      "MEDS.PERPOP\n",
      "MEDS.PERPOP\n"
     ]
    }
   ],
   "source": [
    "for n in range(len(alldata)):\n",
    "    print(alldata[20][n][3])"
   ]
  },
  {
   "cell_type": "code",
   "execution_count": 6,
   "metadata": {},
   "outputs": [],
   "source": [
    "def get_grid_type(grid):\n",
    "    if 'Year' in grid[0]:\n",
    "        return 'row_by_year'\n",
    "    else:\n",
    "        for year_to_check in range(1960, 2999):\n",
    "            if str(year_to_check) in grid[0]:\n",
    "                return 'col_by_year'\n",
    "            elif (str(year_to_check) + '.0') in grid[0]:\n",
    "                return 'col_by_year'\n",
    "    print('Undetermined grid')\n",
    "    return 'undetermined'"
   ]
  },
  {
   "cell_type": "code",
   "execution_count": 7,
   "metadata": {},
   "outputs": [],
   "source": [
    "def find_key_cols_for_by_year(grid):\n",
    "    started_flag = False\n",
    "    country_name_ix = -1\n",
    "    country_code_ix = -1\n",
    "    indicator_code_ix = -1\n",
    "    first_year_ix = -1\n",
    "    last_year_ix = -1\n",
    "    num_cols = len(grid[0])\n",
    "    for col_ix in range(num_cols):\n",
    "        if grid[0][col_ix] == 'Country':\n",
    "            country_name_ix = col_ix\n",
    "        elif grid[0][col_ix] == 'Entity':\n",
    "            country_name_ix = col_ix\n",
    "        elif grid[0][col_ix] == 'Country_Name':\n",
    "            country_name_ix = col_ix\n",
    "        elif grid[0][col_ix] == 'Country Name':\n",
    "            country_name_ix = col_ix\n",
    "        elif grid[0][col_ix] == 'Country_Code':\n",
    "            country_code_ix = col_ix\n",
    "        elif grid[0][col_ix] == 'Country Code':\n",
    "            country_code_ix = col_ix\n",
    "        elif grid[0][col_ix] == 'Country ISO3':\n",
    "            country_code_ix = col_ix\n",
    "        elif grid[0][col_ix] == 'Code':\n",
    "            country_code_ix = col_ix\n",
    "        elif grid[0][col_ix] == 'Indicator_Code':\n",
    "            indicator_code_ix = col_ix\n",
    "        elif grid[0][col_ix] == 'Indicator Code':\n",
    "            indicator_code_ix = col_ix\n",
    "        elif grid[0][col_ix] == 'Indicator Id':\n",
    "            indicator_code_ix = col_ix\n",
    "        else:\n",
    "            try:\n",
    "                year_col = int(float(grid[0][col_ix]))\n",
    "            except ValueError:\n",
    "                pass\n",
    "            else:\n",
    "                if (year_col > 1960) and (year_col < 2999):\n",
    "                    if started_flag:\n",
    "                        last_year_ix = col_ix\n",
    "                    else:\n",
    "                        first_year_ix = col_ix\n",
    "                        last_year_ix = col_ix\n",
    "                        started_flag = True\n",
    "    return country_name_ix, country_code_ix, indicator_code_ix, first_year_ix, last_year_ix"
   ]
  },
  {
   "cell_type": "code",
   "execution_count": 8,
   "metadata": {},
   "outputs": [],
   "source": [
    "def find_key_cols_for_by_row(grid):\n",
    "    country_name_ix = -1\n",
    "    country_code_ix = -1\n",
    "    indicator_code_ix = -1\n",
    "    year_ix = -1\n",
    "    num_cols = len(grid[0])\n",
    "    for col_ix in range(num_cols):\n",
    "        if grid[0][col_ix] == 'Country':\n",
    "            country_name_ix = col_ix\n",
    "        elif grid[0][col_ix] == 'Entity':\n",
    "            country_name_ix = col_ix\n",
    "        elif grid[0][col_ix] == 'Country_Name':\n",
    "            country_name_ix = col_ix\n",
    "        elif grid[0][col_ix] == 'Country Name':\n",
    "            country_name_ix = col_ix\n",
    "        elif grid[0][col_ix] == 'Country_Code':\n",
    "            country_code_ix = col_ix\n",
    "        elif grid[0][col_ix] == 'Country Code':\n",
    "            country_code_ix = col_ix\n",
    "        elif grid[0][col_ix] == 'Country ISO3':\n",
    "            country_code_ix = col_ix\n",
    "        elif grid[0][col_ix] == 'Code':\n",
    "            country_code_ix = col_ix\n",
    "        elif grid[0][col_ix] == 'Indicator_Code':\n",
    "            indicator_code_ix = col_ix\n",
    "        elif grid[0][col_ix] == 'Indicator Code':\n",
    "            indicator_code_ix = col_ix\n",
    "        elif grid[0][col_ix] == 'Indicator Id':\n",
    "            indicator_code_ix = col_ix\n",
    "        elif grid[0][col_ix] == 'Year':\n",
    "            year_ix = col_ix\n",
    "    return country_name_ix, country_code_ix, indicator_code_ix, year_ix"
   ]
  },
  {
   "cell_type": "code",
   "execution_count": 9,
   "metadata": {},
   "outputs": [],
   "source": [
    "def process_by_year(grid, global_id):\n",
    "    added_count = 0\n",
    "    data_to_add = set()\n",
    "    cname_col, ccode_col, icode_col, firstyr_col, lastyr_col = find_key_cols_for_by_year(grid)\n",
    "    if (cname_col < 0) or (ccode_col < 0) or (icode_col < 0) or (firstyr_col < 0) or (lastyr_col < 0):\n",
    "        print('Unable to parse csv data')\n",
    "        print(cname_col)\n",
    "        print(ccode_col)\n",
    "        print(icode_col)\n",
    "        print(firstyr_col)\n",
    "        print(lastyr_col)\n",
    "        return set()\n",
    "    at_header = True\n",
    "    for row in grid:\n",
    "        if at_header:\n",
    "            at_header = False\n",
    "            continue\n",
    "        else:\n",
    "            ccode = row[ccode_col]\n",
    "            cname = row[cname_col]\n",
    "            icode = row[icode_col]\n",
    "            for year_ix in range(firstyr_col, lastyr_col + 1):\n",
    "                iyear = int(float(grid[0][year_ix]))\n",
    "                ivalue = row[year_ix]\n",
    "                if ivalue:\n",
    "                    data_to_add.add(icode)\n",
    "#                    db.session.add(data_to_add)\n",
    "#                    db.session.commit\n",
    "                    global_id += 1\n",
    "                    added_count += 1\n",
    "    return data_to_add"
   ]
  },
  {
   "cell_type": "code",
   "execution_count": 10,
   "metadata": {},
   "outputs": [],
   "source": [
    "def process_by_row(grid, global_id):\n",
    "    added_count = 0\n",
    "    data_to_add = set()\n",
    "    cname_col, ccode_col, icode_col, yr_col = find_key_cols_for_by_row(grid)\n",
    "    if (cname_col < 0) or (ccode_col < 0) or (icode_col < 0) or (yr_col < 0):\n",
    "        print('Unable to parse csv data')\n",
    "        print(cname_col)\n",
    "        print(ccode_col)\n",
    "        print(icode_col)\n",
    "        print(yr_col)\n",
    "        return set()\n",
    "    at_header = True\n",
    "    for row in grid:\n",
    "        if at_header:\n",
    "            at_header = False\n",
    "            continue\n",
    "        else:\n",
    "            ccode = row[ccode_col]\n",
    "            cname = row[cname_col]\n",
    "            icode = row[icode_col]\n",
    "            iyear = int(float(row[yr_col]))\n",
    "            ivalue = row[yr_col + 1]\n",
    "            if ivalue:\n",
    "                data_to_add.add(icode)\n",
    "#                db.session.add(data_to_add)\n",
    "#               db.session.commit\n",
    "                global_id += 1\n",
    "                added_count += 1\n",
    "    return data_to_add"
   ]
  },
  {
   "cell_type": "code",
   "execution_count": null,
   "metadata": {},
   "outputs": [],
   "source": []
  },
  {
   "cell_type": "code",
   "execution_count": 13,
   "metadata": {
    "scrolled": true
   },
   "outputs": [
    {
     "name": "stdout",
     "output_type": "stream",
     "text": [
      "Grid with multiple years processed: added 0\n",
      "Grid with multiple years processed: added 0\n",
      "Grid with multiple years processed: added 0\n",
      "Grid with multiple years processed: added 0\n",
      "Undetermined grid\n",
      "Grid with multiple years processed: added 0\n",
      "Grid with multiple years processed: added 0\n",
      "Grid with multiple years processed: added 0\n",
      "Grid with multiple years processed: added 0\n",
      "Grid with multiple years processed: added 0\n",
      "Grid with multiple years processed: added 0\n",
      "Grid with multiple years processed: added 0\n",
      "Grid with one year per row processed: added 0\n",
      "Grid with multiple years processed: added 0\n",
      "Grid with one year per row processed: added 0\n",
      "Grid with multiple years processed: added 0\n",
      "Grid with multiple years processed: added 0\n",
      "Grid with multiple years processed: added 0\n",
      "Grid with multiple years processed: added 0\n",
      "Grid with multiple years processed: added 0\n",
      "Grid with one year per row processed: added 0\n",
      "Grid with multiple years processed: added 0\n",
      "Grid with multiple years processed: added 0\n",
      "Added Indicator Code\n",
      "Grid with multiple years processed: added 0\n",
      "Added Indicator Code\n",
      "Grid with multiple years processed: added 0\n",
      "Added Indicator Code\n"
     ]
    }
   ],
   "source": [
    "global_id = 0\n",
    "icodes = set()\n",
    "num_added = 0\n",
    "for two_d_grid in alldata:\n",
    "    grid_type = get_grid_type(two_d_grid)\n",
    "    if grid_type == 'col_by_year':\n",
    "        dataset = process_by_year(two_d_grid, global_id)\n",
    "        icodes = icodes|dataset\n",
    "        print('Grid with multiple years processed: added ' + str(num_added))\n",
    "        if 'Indicator Code' in icodes:\n",
    "            print('Added Indicator Code')\n",
    "        global_id += num_added\n",
    "    elif grid_type == 'row_by_year':\n",
    "        dataset = process_by_row(two_d_grid, global_id)\n",
    "        icodes = icodes|dataset\n",
    "        if 'Indicator Code' in icodes:\n",
    "            print('Added Indicator Code')\n",
    "        print('Grid with one year per row processed: added ' + str(num_added))\n",
    "        global_id += num_added"
   ]
  },
  {
   "cell_type": "code",
   "execution_count": 19,
   "metadata": {},
   "outputs": [],
   "source": [
    "test_result = Countries.query.filter_by(indicator_code ='SH.STA.BRTC.ZS').order_by(Countries.iso_a3).all()"
   ]
  },
  {
   "cell_type": "code",
   "execution_count": 20,
   "metadata": {},
   "outputs": [
    {
     "data": {
      "text/plain": [
       "2548"
      ]
     },
     "execution_count": 20,
     "metadata": {},
     "output_type": "execute_result"
    }
   ],
   "source": [
    "len(test_result)"
   ]
  },
  {
   "cell_type": "code",
   "execution_count": 12,
   "metadata": {},
   "outputs": [
    {
     "data": {
      "text/plain": [
       "{'747',\n",
       " '748',\n",
       " '749',\n",
       " '750',\n",
       " '751',\n",
       " '752',\n",
       " '753',\n",
       " '754',\n",
       " '755',\n",
       " '756',\n",
       " '757',\n",
       " '758',\n",
       " '759',\n",
       " 'CORRUP.HOM',\n",
       " 'EG.ELC.ACCS.ZS',\n",
       " 'HLTH.INS',\n",
       " 'HRP.SCORE',\n",
       " 'IT.NET.BBND.P2',\n",
       " 'Indicator Code',\n",
       " 'MEDS.PERPOP',\n",
       " 'SE.ADT.1524.LT.FE.ZS',\n",
       " 'SE.ADT.LITR.FE.ZS',\n",
       " 'SE.PRM.PRSL.FE.ZS',\n",
       " 'SE.PRM.PRSL.MA.ZS',\n",
       " 'SE.PRM.UNER.FE',\n",
       " 'SH.MED.BEDS.ZS',\n",
       " 'SH.STA.BRTC.ZS',\n",
       " 'SH.XPD.CHEX.GD.ZS',\n",
       " 'SH.XPD.CHEX.PP.CD',\n",
       " 'SH.XPD.OOPC.PC.CD',\n",
       " 'SM.POP.NETM',\n",
       " 'SP.DYN.CBRT.IN',\n",
       " 'SP.DYN.CDRT.IN',\n",
       " 'SP.DYN.IMRT.IN',\n",
       " 'SP.DYN.LE00.IN',\n",
       " 'SP.DYN.LE00.MA.IN',\n",
       " 'SP.DYN.TFRT.IN'}"
      ]
     },
     "execution_count": 12,
     "metadata": {},
     "output_type": "execute_result"
    }
   ],
   "source": [
    "icodes"
   ]
  },
  {
   "cell_type": "code",
   "execution_count": null,
   "metadata": {},
   "outputs": [],
   "source": []
  }
 ],
 "metadata": {
  "kernelspec": {
   "display_name": "Python 3",
   "language": "python",
   "name": "python3"
  },
  "language_info": {
   "codemirror_mode": {
    "name": "ipython",
    "version": 3
   },
   "file_extension": ".py",
   "mimetype": "text/x-python",
   "name": "python",
   "nbconvert_exporter": "python",
   "pygments_lexer": "ipython3",
   "version": "3.7.3"
  }
 },
 "nbformat": 4,
 "nbformat_minor": 2
}
